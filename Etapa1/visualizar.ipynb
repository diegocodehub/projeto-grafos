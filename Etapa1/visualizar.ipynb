{
 "cells": [
  {
   "cell_type": "markdown",
   "id": "cf52d457",
   "metadata": {},
   "source": [
    "# 📈 Pré-processamento dos dados (Etapa 1)\n",
    "\n",
    "Caio Bueno Finocchio Martins, Diego Alves de Oliveira\n",
    "\n",
    "Este notebook permite visualizar e analisar as estatísticas dos grafos das instâncias do problema, conforme solicitado na Etapa 1 do projeto.\n",
    "\n",
    "- Representação do grafo\n",
    "- Leitura dos dados\n",
    "- Cálculo das estatísticas principais"
   ]
  },
  {
   "cell_type": "code",
   "execution_count": 6,
   "id": "d970d841",
   "metadata": {},
   "outputs": [
    {
     "data": {
      "application/vnd.jupyter.widget-view+json": {
       "model_id": "ae751238d5b24eafb7ea9e0b8710ac5a",
       "version_major": 2,
       "version_minor": 0
      },
      "text/plain": [
       "Dropdown(description='Arquivo:', index=14, options=('BHW1.dat', 'BHW10.dat', 'BHW11.dat', 'BHW12.dat', 'BHW13.…"
      ]
     },
     "metadata": {},
     "output_type": "display_data"
    },
    {
     "data": {
      "application/vnd.jupyter.widget-view+json": {
       "model_id": "c5464d4eb7774c9392761ef8f01887fe",
       "version_major": 2,
       "version_minor": 0
      },
      "text/plain": [
       "Output()"
      ]
     },
     "metadata": {},
     "output_type": "display_data"
    }
   ],
   "source": [
    "from visualizar import painel_visualizacao\n",
    "\n",
    "painel_visualizacao()"
   ]
  },
  {
   "cell_type": "markdown",
   "id": "4f35cbcd",
   "metadata": {},
   "source": [
    "## 2. Seleção da instância e widgets de interação\n",
    "Permite ao usuário escolher o arquivo de instância .dat para análise e inicializa o painel de saída."
   ]
  },
  {
   "cell_type": "markdown",
   "id": "3cfe50ed",
   "metadata": {},
   "source": [
    "## Matriz de Adjacência\n",
    "A matriz de adjacência representa as conexões diretas entre os vértices do grafo. \n",
    "\n",
    "- A posição \\(i, j\\) indica o peso do caminho direto do vértice \\(i\\) para o vértice \\(j\\).\n",
    "- Um valor infinito (∞) significa que não há conexão direta entre os vértices \\(i\\) e \\(j\\).\n",
    "- Um valor numérico indica o peso associado à aresta direta entre os vértices."
   ]
  },
  {
   "cell_type": "markdown",
   "id": "39ece288",
   "metadata": {},
   "source": [
    "## Intermediação dos Vértices\n",
    "A intermediação de um vértice indica o número de vezes que ele atua como intermediário em caminhos mínimos entre outros pares de vértices no grafo.\n",
    "\n",
    "- Um valor alto de intermediação sugere que o vértice é importante para a conectividade geral do grafo."
   ]
  }
 ],
 "metadata": {
  "kernelspec": {
   "display_name": "Python 3",
   "language": "python",
   "name": "python3"
  },
  "language_info": {
   "codemirror_mode": {
    "name": "ipython",
    "version": 3
   },
   "file_extension": ".py",
   "mimetype": "text/x-python",
   "name": "python",
   "nbconvert_exporter": "python",
   "pygments_lexer": "ipython3",
   "version": "3.13.2"
  }
 },
 "nbformat": 4,
 "nbformat_minor": 5
}
